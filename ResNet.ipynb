{
 "cells": [
  {
   "cell_type": "code",
   "execution_count": 0,
   "metadata": {
    "colab": {},
    "colab_type": "code",
    "id": "3UoKiE0t1Pkd"
   },
   "outputs": [],
   "source": [
    "#!pip3 install https://download.pytorch.org/whl/cu100/torch-1.0.1.post2-cp36-cp36m-linux_x86_64.whl\n",
    "#!pip3 install torchvision"
   ]
  },
  {
   "cell_type": "code",
   "execution_count": 0,
   "metadata": {
    "colab": {},
    "colab_type": "code",
    "id": "D7IBizZ1UDEw"
   },
   "outputs": [],
   "source": [
    "import time\n",
    "\n",
    "import torch\n",
    "import torch.optim as optim\n",
    "\n",
    "import torch.nn as nn\n",
    "import torch.nn.functional as F\n",
    "\n",
    "from sklearn.metrics import accuracy_score\n",
    "\n",
    "import numpy as np\n",
    "import PIL\n",
    "import random\n",
    "from IPython.core.display import Image, display\n",
    "\n",
    "import matplotlib.pyplot as plt"
   ]
  },
  {
   "cell_type": "code",
   "execution_count": 0,
   "metadata": {
    "colab": {},
    "colab_type": "code",
    "id": "Mu8nF_Y08vEj"
   },
   "outputs": [],
   "source": [
    "#отключает warnings pytorch\n",
    "import warnings\n",
    "warnings.filterwarnings('ignore')"
   ]
  },
  {
   "cell_type": "code",
   "execution_count": 0,
   "metadata": {
    "colab": {
     "base_uri": "https://localhost:8080/",
     "height": 119
    },
    "colab_type": "code",
    "id": "fmbdqpWDzBb5",
    "outputId": "e4e6be62-ff4d-4a49-ae2f-97cbe4298922"
   },
   "outputs": [
    {
     "name": "stdout",
     "output_type": "stream",
     "text": [
      "1.0.1.post2\n",
      "True\n",
      "1 Tesla K80\n",
      "0\n",
      "<torch.cuda.device object at 0x7f4d1370f5c0>\n",
      "CudaVersion :  10.0.130\n"
     ]
    }
   ],
   "source": [
    "print(torch.__version__)\n",
    "print(torch.cuda.is_available())\n",
    "\n",
    "print(torch.cuda.device_count(), torch.cuda.get_device_name(0))\n",
    "\n",
    "print(torch.cuda.current_device())\n",
    "print(torch.cuda.device(0))\n",
    "print(\"CudaVersion : \",torch.version.cuda)"
   ]
  },
  {
   "cell_type": "code",
   "execution_count": 0,
   "metadata": {
    "colab": {},
    "colab_type": "code",
    "id": "8Ov-7o7eyJGB"
   },
   "outputs": [],
   "source": [
    "DEVICE_ID = 0\n",
    "DEVICE = torch.device('cuda:%d' % DEVICE_ID)\n",
    "torch.cuda.set_device(DEVICE_ID)\n"
   ]
  },
  {
   "cell_type": "code",
   "execution_count": 0,
   "metadata": {
    "colab": {},
    "colab_type": "code",
    "id": "pQkqFyVFyUm0"
   },
   "outputs": [],
   "source": [
    "np.random.seed(100500)\n",
    "\n",
    "def data2image(data):\n",
    "    res = np.transpose(np.reshape(data ,(3, 32,32)), (1,2,0))\n",
    "    return PIL.Image.fromarray(np.uint8(res))\n",
    "\n",
    "def imshow(img):\n",
    "    if isinstance(img, torch.Tensor): img = img.numpy().astype('uint8')\n",
    "    plt.imshow(np.transpose(img, (1, 2, 0)))\n",
    "    \n",
    "def prediction2classes(output_var):\n",
    "    _, predicted = torch.max(output_var.data, 1)\n",
    "    predicted.squeeze_()\n",
    "    classes = predicted.tolist()\n",
    "    return classes\n",
    "\n",
    "def make_solution_pytorch(net, input_tensor, a_batch_size):\n",
    "    res = []\n",
    "    net = net.eval()\n",
    "    cur_pos = 0\n",
    "    while cur_pos <= len(input_tensor):\n",
    "        outputs = net(input_tensor[cur_pos:cur_pos+a_batch_size])\n",
    "        res += prediction2classes(outputs)\n",
    "        cur_pos += a_batch_size\n",
    "    return res"
   ]
  },
  {
   "cell_type": "code",
   "execution_count": 0,
   "metadata": {
    "colab": {},
    "colab_type": "code",
    "id": "06AeKEiWUa-h"
   },
   "outputs": [],
   "source": [
    "from torch.utils.data import Dataset, DataLoader\n",
    "from torchvision import transforms, utils\n",
    "from PIL import Image\n",
    "\n",
    "class CifarDataset(Dataset):\n",
    "    def __init__(self, input_path, is_train=True, transform=None):\n",
    "                        \n",
    "        data = np.load(input_path)\n",
    "        if is_train: \n",
    "            self.Y, self.X = np.hsplit(data, [1]) \n",
    "            self.Y = [item[0] for item in self.Y]\n",
    "        else: \n",
    "            self.X = data\n",
    "            self.Y = None\n",
    "            \n",
    "        self.X = self.X.reshape((self.X.shape[0], 3, 32, 32))\n",
    "        self.X = self.X.transpose((0, 2, 3, 1)) #приводим к виду (N, H, W, C)\n",
    "        self.X = [Image.fromarray(img) for img in self.X]\n",
    "                \n",
    "        self.transform = transform\n",
    "\n",
    "    def __len__(self):\n",
    "        return len(self.X)\n",
    "\n",
    "    def __getitem__(self, idx):\n",
    "        \n",
    "        sample = self.X[idx]\n",
    "\n",
    "        if self.transform: sample = self.transform(sample)\n",
    "\n",
    "        if self.Y is None: return sample\n",
    "        else: return (sample, self.Y[idx])"
   ]
  },
  {
   "cell_type": "code",
   "execution_count": 0,
   "metadata": {
    "colab": {
     "base_uri": "https://localhost:8080/",
     "height": 122
    },
    "colab_type": "code",
    "id": "omG-yDCAVk85",
    "outputId": "c101d545-1589-469b-8168-17b11760b0a9"
   },
   "outputs": [
    {
     "name": "stdout",
     "output_type": "stream",
     "text": [
      "Go to this URL in a browser: https://accounts.google.com/o/oauth2/auth?client_id=947318989803-6bn6qk8qdgf4n4g3pfee6491hc0brc4i.apps.googleusercontent.com&redirect_uri=urn%3Aietf%3Awg%3Aoauth%3A2.0%3Aoob&scope=email%20https%3A%2F%2Fwww.googleapis.com%2Fauth%2Fdocs.test%20https%3A%2F%2Fwww.googleapis.com%2Fauth%2Fdrive%20https%3A%2F%2Fwww.googleapis.com%2Fauth%2Fdrive.photos.readonly%20https%3A%2F%2Fwww.googleapis.com%2Fauth%2Fpeopleapi.readonly&response_type=code\n",
      "\n",
      "Enter your authorization code:\n",
      "··········\n",
      "Mounted at /content/gdrive\n"
     ]
    }
   ],
   "source": [
    "from google.colab import drive\n",
    "drive.mount('/content/gdrive')"
   ]
  },
  {
   "cell_type": "code",
   "execution_count": 0,
   "metadata": {
    "colab": {
     "base_uri": "https://localhost:8080/",
     "height": 68
    },
    "colab_type": "code",
    "id": "Mo_tFzOVwilF",
    "outputId": "293e65aa-3d41-4462-a720-bb27e9a01c2e"
   },
   "outputs": [
    {
     "name": "stdout",
     "output_type": "stream",
     "text": [
      "'Copy of Kaggle_HW4_ResNet_py3.ipynb'   hw.ipynb\n",
      " homework_4_no_classes.test.npy         Kaggle_HW4_ResNet_py3.ipynb\n",
      " homework_4.train.npy\t\t        my_solution_lenet.csv\n"
     ]
    }
   ],
   "source": [
    "#тут папки с проблема должны быть заключены в \"\"\n",
    "PATH_OF_DATA= '/content/gdrive/\"My Drive\"/\"Colab Notebooks\"/homework_4_ResNet'\n",
    "!ls {PATH_OF_DATA}"
   ]
  },
  {
   "cell_type": "code",
   "execution_count": 0,
   "metadata": {
    "colab": {},
    "colab_type": "code",
    "id": "r-MYsKTfw2ZW"
   },
   "outputs": [],
   "source": [
    "#Тут папки с пробелами НЕ надо заключать в \"\"\n",
    "DATA_PATH  = '/content/gdrive/My Drive/Colab Notebooks/homework_4_ResNet/'\n",
    "train_path = 'homework_4.train.npy'\n",
    "test_path  = 'homework_4_no_classes.test.npy'"
   ]
  },
  {
   "cell_type": "code",
   "execution_count": 0,
   "metadata": {
    "colab": {},
    "colab_type": "code",
    "id": "8gM30XxszmwA"
   },
   "outputs": [],
   "source": [
    "np_mean = np.mean([item[0].numpy() for item in CifarDataset(DATA_PATH + train_path, transform=transforms.ToTensor())], axis=(0,2,3))\n",
    "np_std = np.std([item[0].numpy() for item in CifarDataset(DATA_PATH + train_path, transform=transforms.ToTensor())], axis=(0,2,3))"
   ]
  },
  {
   "cell_type": "code",
   "execution_count": 0,
   "metadata": {
    "colab": {
     "base_uri": "https://localhost:8080/",
     "height": 34
    },
    "colab_type": "code",
    "id": "_35tkhs9zrpi",
    "outputId": "690fe864-06fe-44fc-fc31-6272a807a077"
   },
   "outputs": [
    {
     "data": {
      "text/plain": [
       "(array([0.50760865, 0.48708203, 0.44149536], dtype=float32), (3,))"
      ]
     },
     "execution_count": 12,
     "metadata": {
      "tags": []
     },
     "output_type": "execute_result"
    }
   ],
   "source": [
    "np_mean, np_mean.shape"
   ]
  },
  {
   "cell_type": "code",
   "execution_count": 0,
   "metadata": {
    "colab": {
     "base_uri": "https://localhost:8080/",
     "height": 34
    },
    "colab_type": "code",
    "id": "vUnHdWIDz0TB",
    "outputId": "e239e0af-c022-400f-d84e-cbf3c7ba33ac"
   },
   "outputs": [
    {
     "data": {
      "text/plain": [
       "(array([0.26764476, 0.2567687 , 0.27647924], dtype=float32), (3,))"
      ]
     },
     "execution_count": 13,
     "metadata": {
      "tags": []
     },
     "output_type": "execute_result"
    }
   ],
   "source": [
    "np_std, np_std.shape"
   ]
  },
  {
   "cell_type": "code",
   "execution_count": 0,
   "metadata": {
    "colab": {},
    "colab_type": "code",
    "id": "Rqv5HTGPz1UL"
   },
   "outputs": [],
   "source": [
    "cifar_transform_norm = transforms.Compose([\n",
    "    transforms.Pad(4),\n",
    "    transforms.RandomCrop(32),\n",
    "    transforms.RandomHorizontalFlip(),\n",
    "    transforms.ToTensor(),\n",
    "    transforms.Normalize(torch.FloatTensor(np_mean), torch.FloatTensor(np_std))\n",
    "]\n",
    ")\n",
    "\n",
    "cifar_test_transform_norm = transforms.Compose([    \n",
    "    transforms.ToTensor(),\n",
    "    transforms.Normalize(torch.FloatTensor(np_mean), torch.FloatTensor(np_std))\n",
    "]\n",
    ")"
   ]
  },
  {
   "cell_type": "code",
   "execution_count": 0,
   "metadata": {
    "colab": {},
    "colab_type": "code",
    "id": "oJmzKcvRz8Pe"
   },
   "outputs": [],
   "source": [
    "dataset_train_norm = CifarDataset(DATA_PATH + train_path, transform=cifar_transform_norm)\n",
    "dataloader_train_norm = DataLoader(dataset_train_norm, batch_size=128,\n",
    "                        shuffle=True, num_workers=4)\n",
    "\n",
    "dataset_test_norm = CifarDataset(DATA_PATH + test_path, is_train=False, transform=cifar_test_transform_norm)\n",
    "dataloader_test_norm = DataLoader(dataset_test_norm, batch_size=128,\n",
    "                        shuffle=False, num_workers=1)\n",
    "\n",
    "\n",
    "def train_network(a_net, \n",
    "                  a_device,\n",
    "                  dataloader_train_norm=dataloader_train_norm,\n",
    "                  a_epochs=164,\n",
    "                  a_batch_size=128,\n",
    "                  a_lr=0.1):\n",
    "    \n",
    "    start_time = time.time()\n",
    "    train_acc = []\n",
    "    net = a_net.to(a_device)\n",
    "\n",
    "    criterion = nn.CrossEntropyLoss()\n",
    "    optimizer = torch.optim.SGD(a_net.parameters(), lr=a_lr, weight_decay=0.0001, momentum=0.9)\n",
    "\n",
    "    prev_epoch_time = start_time\n",
    "    for epoch in range(a_epochs):  # loop over the dataset multiple times\n",
    "        if epoch == 82:\n",
    "            optimizer = torch.optim.SGD(a_net.parameters(), lr=a_lr/10, weight_decay=0.0001, momentum=0.9) \n",
    "        elif epoch == 123:\n",
    "            optimizer = torch.optim.SGD(a_net.parameters(), lr=a_lr/100, weight_decay=0.0001, momentum=0.9) \n",
    "        \n",
    "        net = net.train()        \n",
    "        epoch_accuracy = 0.0\n",
    "        epoch_iters = 0\n",
    "        for item in dataloader_train_norm:\n",
    "            \n",
    "            epoch_iters += 1\n",
    "\n",
    "            inputs = item[0].to(a_device)\n",
    "            labels = item[1].long().to(a_device)\n",
    "\n",
    "            # zero the parameter gradients\n",
    "            optimizer.zero_grad()\n",
    "\n",
    "            # forward + backward + optimize\n",
    "            outputs = net(inputs)\n",
    "            loss = criterion(outputs, labels)\n",
    "            loss.backward()\n",
    "            optimizer.step()\n",
    "#             prediction2classes(outputs)\n",
    "\n",
    "#             print(labels.cpu())\n",
    "#             print(prediction2classes(outputs))\n",
    "            epoch_accuracy += accuracy_score(labels.cpu(), prediction2classes(outputs))\n",
    "\n",
    "        epoch_accuracy /= epoch_iters\n",
    "        train_acc.append(epoch_accuracy)\n",
    "        \n",
    "        print(\"Epoch \", epoch, round(train_acc[-1], 4))\n",
    "        cur_epoch_time = time.time()\n",
    "        print('Epoch time : ', cur_epoch_time - prev_epoch_time )\n",
    "        prev_epoch_time = cur_epoch_time\n",
    "\n",
    "    print('Finished Training')\n",
    "    print(\"Total time : \", (time.time()-start_time))\n",
    "    \n",
    "    plt.plot(train_acc, label='Train')\n",
    "    plt.legend()\n",
    "#     plt.grid()\n",
    "    plt.grid(c='grey')"
   ]
  },
  {
   "cell_type": "code",
   "execution_count": 0,
   "metadata": {
    "colab": {},
    "colab_type": "code",
    "id": "GcibjdpDT9dz"
   },
   "outputs": [],
   "source": [
    "DOWNSAMPLE_COEF = 2\n",
    "\n",
    "def conv3x3(a_in_planes, a_out_planes, a_stride=1):\n",
    "    \"\"\"\n",
    "    Основной строительный блок конволюций для ResNet\n",
    "    Включает в себя padding=1 - чтобы размерность сохранялась после его применения\n",
    "    \"\"\"\n",
    "    return nn.Conv2d(a_in_planes, a_out_planes,  stride=a_stride,\n",
    "                     kernel_size=3, padding=1, bias=False)\n",
    "\n",
    "def x_downsample(a_in_channels):\n",
    "     return nn.Conv2d(a_in_channels, \n",
    "               a_in_channels*DOWNSAMPLE_COEF,\n",
    "               kernel_size=1,\n",
    "               stride=2,\n",
    "               bias=False)"
   ]
  },
  {
   "cell_type": "code",
   "execution_count": 0,
   "metadata": {
    "colab": {},
    "colab_type": "code",
    "id": "gNWwBSOJUCfo"
   },
   "outputs": [],
   "source": [
    "class CifarResidualBlock(nn.Module):\n",
    "    def __init__(self, a_in_channels, make_downsample=False, use_skip_connection=True):\n",
    "        super(CifarResidualBlock, self).__init__()\n",
    "        self.use_skip_connection = use_skip_connection\n",
    "        \n",
    "        if make_downsample: coef = DOWNSAMPLE_COEF\n",
    "        else: coef = 1  \n",
    "        \n",
    "        ### TODO - нужно описать используемые блоки\n",
    "        self.make_downsample = make_downsample\n",
    "        \n",
    "        \n",
    "        self.net = nn.Sequential()\n",
    "        \n",
    "        self.net.add_module('conv_1', conv3x3(a_in_channels, a_in_channels * coef, coef))\n",
    "        self.net.add_module('bn_1', nn.BatchNorm2d(a_in_channels * coef))\n",
    "        self.net.add_module('relu_1', nn.ReLU())\n",
    "        \n",
    "        self.net.add_module('conv_2', conv3x3(a_in_channels * coef, a_in_channels * coef))\n",
    "        self.net.add_module('bn_2', nn.BatchNorm2d(a_in_channels * coef))\n",
    "        \n",
    "        if self.use_skip_connection: \n",
    "            if self.make_downsample:\n",
    "                self.conv_down = x_downsample(a_in_channels)\n",
    "                self.bn_down = nn.BatchNorm2d(a_in_channels * coef)\n",
    "        \n",
    "        self.relu = nn.ReLU()\n",
    "\n",
    "    def forward(self, x):\n",
    "        ###TODO - описать forward блок с учетом флагов make_downsample и use_skip_connection  \n",
    "        out = self.net(x)\n",
    "        \n",
    "        if self.use_skip_connection: \n",
    "            if self.make_downsample:\n",
    "                out1 = self.conv_down(x)\n",
    "                out1 = self.bn_down(out1)\n",
    "                out += out1\n",
    "            else:\n",
    "                out += x\n",
    "                \n",
    "        out = self.relu(out)\n",
    "        \n",
    "        return out"
   ]
  },
  {
   "cell_type": "code",
   "execution_count": 0,
   "metadata": {
    "colab": {},
    "colab_type": "code",
    "id": "zNxk8R0I0KZp"
   },
   "outputs": [],
   "source": [
    "class CifarResNet(nn.Module):\n",
    "    \n",
    "    def __init__(self):\n",
    "        super(CifarResNet, self).__init__()\n",
    "        \n",
    "        #TODO нужно добавить блоков resnet и других слоев при необходимости\n",
    "        \n",
    "        self.features = nn.Sequential()\n",
    "        \n",
    "        #...\n",
    "        k = 2\n",
    "        \n",
    "        self.features.add_module('conv_1', nn.Conv2d(3, 16*k, kernel_size=3))\n",
    "        self.features.add_module('bn_1', nn.BatchNorm2d(16*k))\n",
    "        self.features.add_module('relu_1', nn.ReLU())\n",
    "        \n",
    "        self.features.add_module('res_block16-1', CifarResidualBlock(16*k))\n",
    "        self.features.add_module('res_block16-down', CifarResidualBlock(16*k, make_downsample=True))\n",
    "        \n",
    "\n",
    "        self.features.add_module('res_block32-1', CifarResidualBlock(32*k))\n",
    "        self.features.add_module('res_block32-down', CifarResidualBlock(32*k, make_downsample=True))\n",
    "        \n",
    "        self.features.add_module('res_block64-1', CifarResidualBlock(64*k))\n",
    "        self.features.add_module('res_block64-down', CifarResidualBlock(64*k, make_downsample=True))\n",
    "        \n",
    "        \n",
    "        #...\n",
    "        \n",
    "        self.global_avg_pooling = nn.AvgPool2d(kernel_size=4)\n",
    "        self.fc_classifier = nn.Linear(128*k, 100)\n",
    "        \n",
    "    def forward(self, x):\n",
    "        x = self.features(x)\n",
    "        x = self.global_avg_pooling(x)        \n",
    "        x = x.view((x.size()[0], -1))        \n",
    "        x = self.fc_classifier(x)        \n",
    "        return x"
   ]
  },
  {
   "cell_type": "code",
   "execution_count": 0,
   "metadata": {
    "colab": {
     "base_uri": "https://localhost:8080/",
     "height": 4121
    },
    "colab_type": "code",
    "id": "rmCpF0-k--q2",
    "outputId": "c387b4e5-6808-4c39-9ffb-0186186da579"
   },
   "outputs": [
    {
     "name": "stdout",
     "output_type": "stream",
     "text": [
      "Epoch  0 0.0974\n",
      "Epoch time :  49.77915954589844\n",
      "Epoch  1 0.1984\n",
      "Epoch time :  44.691232681274414\n",
      "Epoch  2 0.2826\n",
      "Epoch time :  44.78707027435303\n",
      "Epoch  3 0.3531\n",
      "Epoch time :  44.828972816467285\n",
      "Epoch  4 0.4184\n",
      "Epoch time :  44.8935341835022\n",
      "Epoch  5 0.4692\n",
      "Epoch time :  44.880603075027466\n",
      "Epoch  6 0.5072\n",
      "Epoch time :  44.865668296813965\n",
      "Epoch  7 0.54\n",
      "Epoch time :  44.71931600570679\n",
      "Epoch  8 0.5629\n",
      "Epoch time :  44.78134322166443\n",
      "Epoch  9 0.5879\n",
      "Epoch time :  44.81944727897644\n",
      "Epoch  10 0.6062\n",
      "Epoch time :  44.867700815200806\n",
      "Epoch  11 0.6241\n",
      "Epoch time :  44.8855881690979\n",
      "Epoch  12 0.6356\n",
      "Epoch time :  44.809526205062866\n",
      "Epoch  13 0.6469\n",
      "Epoch time :  44.79983949661255\n",
      "Epoch  14 0.658\n",
      "Epoch time :  44.78819990158081\n",
      "Epoch  15 0.6723\n",
      "Epoch time :  44.7940948009491\n",
      "Epoch  16 0.6804\n",
      "Epoch time :  44.80095982551575\n",
      "Epoch  17 0.6947\n",
      "Epoch time :  44.787517786026\n",
      "Epoch  18 0.6977\n",
      "Epoch time :  44.81609296798706\n",
      "Epoch  19 0.7129\n",
      "Epoch time :  44.85882544517517\n",
      "Epoch  20 0.7156\n",
      "Epoch time :  44.78040432929993\n",
      "Epoch  21 0.7238\n",
      "Epoch time :  44.76254606246948\n",
      "Epoch  22 0.73\n",
      "Epoch time :  44.81688189506531\n",
      "Epoch  23 0.7349\n",
      "Epoch time :  44.865458965301514\n",
      "Epoch  24 0.7394\n",
      "Epoch time :  44.785144567489624\n",
      "Epoch  25 0.7474\n",
      "Epoch time :  44.782609939575195\n",
      "Epoch  26 0.7505\n",
      "Epoch time :  44.81876611709595\n",
      "Epoch  27 0.7584\n",
      "Epoch time :  44.76170992851257\n",
      "Epoch  28 0.763\n",
      "Epoch time :  44.77207612991333\n",
      "Epoch  29 0.7658\n",
      "Epoch time :  44.81030297279358\n",
      "Epoch  30 0.772\n",
      "Epoch time :  44.77899503707886\n",
      "Epoch  31 0.7785\n",
      "Epoch time :  44.78528070449829\n",
      "Epoch  32 0.7791\n",
      "Epoch time :  44.83478045463562\n",
      "Epoch  33 0.7796\n",
      "Epoch time :  44.903892993927\n",
      "Epoch  34 0.7845\n",
      "Epoch time :  44.83755850791931\n",
      "Epoch  35 0.7893\n",
      "Epoch time :  44.777586460113525\n",
      "Epoch  36 0.79\n",
      "Epoch time :  44.7398841381073\n",
      "Epoch  37 0.794\n",
      "Epoch time :  44.78990912437439\n",
      "Epoch  38 0.7981\n",
      "Epoch time :  44.84295129776001\n",
      "Epoch  39 0.7983\n",
      "Epoch time :  44.839197874069214\n",
      "Epoch  40 0.8046\n",
      "Epoch time :  44.81507682800293\n",
      "Epoch  41 0.805\n",
      "Epoch time :  44.787840604782104\n",
      "Epoch  42 0.8038\n",
      "Epoch time :  44.73243689537048\n",
      "Epoch  43 0.8068\n",
      "Epoch time :  44.840497970581055\n",
      "Epoch  44 0.8148\n",
      "Epoch time :  44.858004093170166\n",
      "Epoch  45 0.8159\n",
      "Epoch time :  44.86777639389038\n",
      "Epoch  46 0.8159\n",
      "Epoch time :  44.82733631134033\n",
      "Epoch  47 0.8204\n",
      "Epoch time :  44.79947352409363\n",
      "Epoch  48 0.8195\n",
      "Epoch time :  44.799622774124146\n",
      "Epoch  49 0.8244\n",
      "Epoch time :  44.83566188812256\n",
      "Epoch  50 0.8225\n",
      "Epoch time :  44.92138743400574\n",
      "Epoch  51 0.8242\n",
      "Epoch time :  44.78858280181885\n",
      "Epoch  52 0.8253\n",
      "Epoch time :  45.005573987960815\n",
      "Epoch  53 0.8275\n",
      "Epoch time :  44.8295955657959\n",
      "Epoch  54 0.8294\n",
      "Epoch time :  44.810805320739746\n",
      "Epoch  55 0.83\n",
      "Epoch time :  44.84544348716736\n",
      "Epoch  56 0.8307\n",
      "Epoch time :  44.64139533042908\n",
      "Epoch  57 0.8333\n",
      "Epoch time :  44.84048938751221\n",
      "Epoch  58 0.8377\n",
      "Epoch time :  44.93992638587952\n",
      "Epoch  59 0.8352\n",
      "Epoch time :  44.804274559020996\n",
      "Epoch  60 0.8338\n",
      "Epoch time :  44.882436752319336\n",
      "Epoch  61 0.835\n",
      "Epoch time :  44.81693387031555\n",
      "Epoch  62 0.8417\n",
      "Epoch time :  44.765921115875244\n",
      "Epoch  63 0.838\n",
      "Epoch time :  44.78703570365906\n",
      "Epoch  64 0.8432\n",
      "Epoch time :  44.82548522949219\n",
      "Epoch  65 0.8411\n",
      "Epoch time :  44.89776682853699\n",
      "Epoch  66 0.8451\n",
      "Epoch time :  44.851155281066895\n",
      "Epoch  67 0.8434\n",
      "Epoch time :  44.821725845336914\n",
      "Epoch  68 0.8465\n",
      "Epoch time :  44.87936234474182\n",
      "Epoch  69 0.8472\n",
      "Epoch time :  44.84650945663452\n",
      "Epoch  70 0.8465\n",
      "Epoch time :  44.70516633987427\n",
      "Epoch  71 0.8463\n",
      "Epoch time :  44.886289834976196\n",
      "Epoch  72 0.8498\n",
      "Epoch time :  44.95940351486206\n",
      "Epoch  73 0.8503\n",
      "Epoch time :  44.86597466468811\n",
      "Epoch  74 0.8469\n",
      "Epoch time :  44.78441905975342\n",
      "Epoch  75 0.8499\n",
      "Epoch time :  44.84695839881897\n",
      "Epoch  76 0.8508\n",
      "Epoch time :  44.7595853805542\n",
      "Epoch  77 0.8519\n",
      "Epoch time :  44.807575702667236\n",
      "Epoch  78 0.8543\n",
      "Epoch time :  44.90773677825928\n",
      "Epoch  79 0.8519\n",
      "Epoch time :  44.85590314865112\n",
      "Epoch  80 0.8554\n",
      "Epoch time :  44.79845905303955\n",
      "Epoch  81 0.8549\n",
      "Epoch time :  44.807551860809326\n",
      "Epoch  82 0.9302\n",
      "Epoch time :  44.76236844062805\n",
      "Epoch  83 0.9556\n",
      "Epoch time :  44.728155851364136\n",
      "Epoch  84 0.9618\n",
      "Epoch time :  44.81075882911682\n",
      "Epoch  85 0.966\n",
      "Epoch time :  44.75503635406494\n",
      "Epoch  86 0.9708\n",
      "Epoch time :  44.85643029212952\n",
      "Epoch  87 0.972\n",
      "Epoch time :  44.86780095100403\n",
      "Epoch  88 0.9763\n",
      "Epoch time :  44.814141511917114\n",
      "Epoch  89 0.9774\n",
      "Epoch time :  44.77277135848999\n",
      "Epoch  90 0.979\n",
      "Epoch time :  44.689297914505005\n",
      "Epoch  91 0.98\n",
      "Epoch time :  44.76712393760681\n",
      "Epoch  92 0.982\n",
      "Epoch time :  44.77776002883911\n",
      "Epoch  93 0.9828\n",
      "Epoch time :  44.8544487953186\n",
      "Epoch  94 0.9829\n",
      "Epoch time :  44.8132643699646\n",
      "Epoch  95 0.9837\n",
      "Epoch time :  44.794909715652466\n",
      "Epoch  96 0.9847\n",
      "Epoch time :  44.77245736122131\n",
      "Epoch  97 0.9847\n",
      "Epoch time :  44.832361698150635\n",
      "Epoch  98 0.9868\n",
      "Epoch time :  44.96505522727966\n",
      "Epoch  99 0.9867\n",
      "Epoch time :  44.8735773563385\n",
      "Epoch  100 0.9869\n",
      "Epoch time :  44.79840111732483\n",
      "Epoch  101 0.9881\n",
      "Epoch time :  44.85446763038635\n",
      "Epoch  102 0.9885\n",
      "Epoch time :  44.77883768081665\n",
      "Epoch  103 0.989\n",
      "Epoch time :  44.772563219070435\n",
      "Epoch  104 0.9894\n",
      "Epoch time :  44.71026539802551\n",
      "Epoch  105 0.989\n",
      "Epoch time :  44.845784425735474\n",
      "Epoch  106 0.9901\n",
      "Epoch time :  44.85650086402893\n",
      "Epoch  107 0.99\n",
      "Epoch time :  44.7834415435791\n",
      "Epoch  108 0.9898\n",
      "Epoch time :  44.84151768684387\n",
      "Epoch  109 0.9907\n",
      "Epoch time :  44.80380463600159\n",
      "Finished Training\n",
      "Total time :  4934.845889568329\n"
     ]
    },
    {
     "data": {
      "image/png": "[encoded data removed]",
      "text/plain": [
       "<Figure size 576x396 with 1 Axes>"
      ]
     },
     "metadata": {
      "tags": []
     },
     "output_type": "display_data"
    }
   ],
   "source": [
    "resnet = CifarResNet()\n",
    "train_network(resnet, torch.device(DEVICE), a_epochs = 110)"
   ]
  },
  {
   "cell_type": "markdown",
   "metadata": {
    "colab_type": "text",
    "id": "GYLWE2Km_WHJ"
   },
   "source": [
    "# Важно переключить сеть в режим eval - иначе dropout будет работать некорректно"
   ]
  },
  {
   "cell_type": "code",
   "execution_count": 0,
   "metadata": {
    "colab": {},
    "colab_type": "code",
    "id": "_MzYqg_6_Ya1"
   },
   "outputs": [],
   "source": [
    "def make_solution(a_net, a_device):\n",
    "    res = []\n",
    "    net = a_net.eval()\n",
    "    for item in dataloader_test_norm:\n",
    "        inputs = item.to(a_device)\n",
    "        outputs = net(inputs) \n",
    "\n",
    "        res += prediction2classes(outputs)\n",
    "    return res"
   ]
  },
  {
   "cell_type": "code",
   "execution_count": 0,
   "metadata": {
    "colab": {},
    "colab_type": "code",
    "id": "iQSw5j8c_bf9"
   },
   "outputs": [],
   "source": [
    "my_solution = make_solution(resnet, DEVICE)"
   ]
  },
  {
   "cell_type": "code",
   "execution_count": 0,
   "metadata": {
    "colab": {},
    "colab_type": "code",
    "id": "0OlzYS98_dVO"
   },
   "outputs": [],
   "source": [
    "file_name = DATA_PATH + 'my_solution_resnet.csv'\n",
    "\n",
    "with open(file_name, 'w') as fout:\n",
    "    print('Id', 'Prediction', sep=',', file=fout)\n",
    "    for i, prediction in enumerate(my_solution):\n",
    "        print(i, prediction, sep=',', file=fout)\n",
    "        \n",
    "from google.colab import files\n",
    "files.download(file_name)"
   ]
  },
  {
   "cell_type": "code",
   "execution_count": 0,
   "metadata": {
    "colab": {},
    "colab_type": "code",
    "id": "W-8A-rVomwRw"
   },
   "outputs": [],
   "source": []
  }
 ],
 "metadata": {
  "accelerator": "GPU",
  "colab": {
   "collapsed_sections": [],
   "name": "hw.ipynb",
   "provenance": [],
   "version": "0.3.2"
  },
  "kernelspec": {
   "display_name": "Python 3",
   "language": "python",
   "name": "python3"
  },
  "language_info": {
   "codemirror_mode": {
    "name": "ipython",
    "version": 3
   },
   "file_extension": ".py",
   "mimetype": "text/x-python",
   "name": "python",
   "nbconvert_exporter": "python",
   "pygments_lexer": "ipython3",
   "version": "3.7.3"
  }
 },
 "nbformat": 4,
 "nbformat_minor": 1
}
